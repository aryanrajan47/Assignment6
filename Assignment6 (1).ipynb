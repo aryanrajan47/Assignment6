{
 "cells": [
  {
   "cell_type": "code",
   "execution_count": 2,
   "id": "d30bb2ed-29a2-424e-984e-3888e1ba9f2e",
   "metadata": {},
   "outputs": [
    {
     "name": "stdin",
     "output_type": "stream",
     "text": [
      "Enter the persentage  86\n"
     ]
    },
    {
     "name": "stdout",
     "output_type": "stream",
     "text": [
      "Grade B\n"
     ]
    }
   ],
   "source": [
    "\n",
    "# QUESTION 1\n",
    "\n",
    "percent = int(input(\"Enter the persentage \"))\n",
    "\n",
    "if ( percent > 90 ):\n",
    "    print(\"Grade A\")\n",
    "\n",
    "elif ( percent > 80 and percent <=90 ):\n",
    "    print(\"Grade B\")\n",
    "\n",
    "elif ( percent >= 60 and percent <= 80 ): \n",
    "    print(\"Grade C\")\n",
    "\n",
    "else:\n",
    "    print(\"Grade D\") \n"
   ]
  },
  {
   "cell_type": "code",
   "execution_count": 3,
   "id": "ed9c9ffb-291f-4698-9bd8-142ac1b6a05e",
   "metadata": {},
   "outputs": [
    {
     "name": "stdin",
     "output_type": "stream",
     "text": [
      "Enter the cost price of a bike  95000\n"
     ]
    },
    {
     "name": "stdout",
     "output_type": "stream",
     "text": [
      "Tax : 10% \n"
     ]
    }
   ],
   "source": [
    "\n",
    "# QUESTION 2\n",
    "\n",
    "price = int(input(\"Enter the cost price of a bike \"))\n",
    "\n",
    "if ( price > 100000 ):\n",
    "    print(\"Tax : 15% \")\n",
    "\n",
    "elif ( price > 50000 and price <= 100000 ):\n",
    "    print(\"Tax : 10% \")\n",
    "\n",
    "else: \n",
    "    print(\"Tax : 5% \")\n"
   ]
  },
  {
   "cell_type": "code",
   "execution_count": 4,
   "id": "c0796115-3ded-4baa-919c-ffc99c6e0a15",
   "metadata": {},
   "outputs": [
    {
     "name": "stdin",
     "output_type": "stream",
     "text": [
      "Enter the name of the city  Agra\n"
     ]
    },
    {
     "name": "stdout",
     "output_type": "stream",
     "text": [
      "Monumnet : Taj Mahal \n"
     ]
    }
   ],
   "source": [
    "\n",
    "# QUESTION 3\n",
    "\n",
    "city = input(\"Enter the name of the city \")\n",
    "\n",
    "if ( city == \"Delhi\" ):\n",
    "    print(\"Monument : Red Fort \")\n",
    "\n",
    "elif ( city == \"Agra\" ):\n",
    "    print(\"Monumnet : Taj Mahal \")\n",
    "\n",
    "elif ( city == \"Jaipur\" ):\n",
    "    print(\"Monument : Jal Mahal \")\n"
   ]
  },
  {
   "cell_type": "code",
   "execution_count": 5,
   "id": "ef64867e-553a-4285-bbfa-c6e15a6141dd",
   "metadata": {},
   "outputs": [
    {
     "name": "stdin",
     "output_type": "stream",
     "text": [
      "Enter the given number  99\n"
     ]
    },
    {
     "name": "stdout",
     "output_type": "stream",
     "text": [
      "The given number is 3 times divided by 3 before it is less than oe equal to 10 \n"
     ]
    }
   ],
   "source": [
    "\n",
    "# QUESTION 4\n",
    "\n",
    "''' Check how many times a given number can be divided by 3 before it is less than or equal to 10 '''\n",
    "\n",
    "num = int(input(\"Enter the given number \"))\n",
    "count = 0\n",
    "while ( num > 10 ):\n",
    "    if ( num / 3 ):\n",
    "        count = count + 1 \n",
    "    num = num / 3 \n",
    "print(\"The given number is\",count,\"times divided by 3 before it is less than oe equal to 10 \" )\n"
   ]
  },
  {
   "cell_type": "code",
   "execution_count": 6,
   "id": "426a9f9f-e719-4389-91cc-b243497f498a",
   "metadata": {},
   "outputs": [
    {
     "name": "stdout",
     "output_type": "stream",
     "text": [
      "You can VOTE\n"
     ]
    }
   ],
   "source": [
    "\n",
    "# QUESTION 5\n",
    "\n",
    "''' Python while loop is used to run a block code until a certain condition is met '''\n",
    "\n",
    "''' A while loop evaluates the condition.\n",
    "    If the condition evaluates to True, the code inside the loop is executed.\n",
    "    Condition is evaluayted again.\n",
    "    This process continues until the condition is False.\n",
    "    When condition evaluates to False, the loop stops.                          '''\n",
    "\n",
    "# EXAMPLE \n",
    "k = 1\n",
    "while ( k < 20 ):\n",
    "    if ( k > 18 ):\n",
    "        print(\"You can VOTE\")\n",
    "    k = k + 1\n",
    " "
   ]
  },
  {
   "cell_type": "code",
   "execution_count": 7,
   "id": "aa24d250-00b9-41e3-af8d-57ffcc9d539f",
   "metadata": {},
   "outputs": [
    {
     "name": "stdin",
     "output_type": "stream",
     "text": [
      "Enter the row number  5\n"
     ]
    },
    {
     "name": "stdout",
     "output_type": "stream",
     "text": [
      "11111\n",
      "22222\n",
      "33333\n",
      "44444\n",
      "55555\n"
     ]
    },
    {
     "name": "stdin",
     "output_type": "stream",
     "text": [
      "Enter the row number  5\n"
     ]
    },
    {
     "name": "stdout",
     "output_type": "stream",
     "text": [
      "1\n",
      "12\n",
      "123\n",
      "1234\n",
      "12345\n"
     ]
    },
    {
     "name": "stdin",
     "output_type": "stream",
     "text": [
      "Enter the row number  5\n"
     ]
    },
    {
     "name": "stdout",
     "output_type": "stream",
     "text": [
      "12345\n",
      "1234\n",
      "123\n",
      "12\n",
      "1\n"
     ]
    }
   ],
   "source": [
    "# QUESTION 6\n",
    "\n",
    "# Pattern 1\n",
    "\n",
    "n = int(input(\"Enter the row number \"))\n",
    "i = 1\n",
    "while ( i <= n ):\n",
    "    j = 1\n",
    "    while ( j <= n ):\n",
    "        print(i,end='')\n",
    "        j = j + 1\n",
    "    print('')\n",
    "    i = i + 1\n",
    "\n",
    "# Pttern 2\n",
    "\n",
    "n = int(input(\"Enter the row number \"))\n",
    "i = 1\n",
    "while ( i <= n ):\n",
    "    j = 1\n",
    "    while ( j <= i ):\n",
    "        print(j,end='')\n",
    "        j = j + 1\n",
    "    print('')\n",
    "    i = i + 1\n",
    "\n",
    "# Pttern 3\n",
    "\n",
    "n = int(input(\"Enter the row number \"))\n",
    "i = 1\n",
    "while ( i <= n ):\n",
    "    j = 1\n",
    "    while ( j <= n-i+1 ):\n",
    "        print(j,end='')\n",
    "        j = j + 1\n",
    "    print('')\n",
    "    i = i + 1\n"
   ]
  },
  {
   "cell_type": "code",
   "execution_count": 8,
   "id": "0fce9dd3-0331-4ed0-9696-c1176a54982e",
   "metadata": {},
   "outputs": [
    {
     "name": "stdout",
     "output_type": "stream",
     "text": [
      "10\n",
      "9\n",
      "8\n",
      "7\n",
      "6\n",
      "5\n",
      "4\n",
      "3\n",
      "2\n",
      "1\n"
     ]
    }
   ],
   "source": [
    "\n",
    "# QUESTION 7\n",
    "\n",
    "i = 10\n",
    "while ( i > 0 ):\n",
    "    print(i)\n",
    "    i = i - 1\n"
   ]
  }
 ],
 "metadata": {
  "kernelspec": {
   "display_name": "Python 3 (ipykernel)",
   "language": "python",
   "name": "python3"
  },
  "language_info": {
   "codemirror_mode": {
    "name": "ipython",
    "version": 3
   },
   "file_extension": ".py",
   "mimetype": "text/x-python",
   "name": "python",
   "nbconvert_exporter": "python",
   "pygments_lexer": "ipython3",
   "version": "3.10.6"
  }
 },
 "nbformat": 4,
 "nbformat_minor": 5
}
